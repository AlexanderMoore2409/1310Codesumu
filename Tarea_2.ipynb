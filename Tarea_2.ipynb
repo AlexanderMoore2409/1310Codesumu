{
  "nbformat": 4,
  "nbformat_minor": 0,
  "metadata": {
    "colab": {
      "name": "Tarea_2.ipynb",
      "provenance": [],
      "collapsed_sections": [],
      "authorship_tag": "ABX9TyMiIq1iGEwVhU0Ziec9MJRJ",
      "include_colab_link": true
    },
    "kernelspec": {
      "name": "python3",
      "display_name": "Python 3"
    },
    "language_info": {
      "name": "python"
    }
  },
  "cells": [
    {
      "cell_type": "markdown",
      "metadata": {
        "id": "view-in-github",
        "colab_type": "text"
      },
      "source": [
        "<a href=\"https://colab.research.google.com/github/AlexanderMoore2409/1310Codesumu/blob/main/Tarea_2.ipynb\" target=\"_parent\"><img src=\"https://colab.research.google.com/assets/colab-badge.svg\" alt=\"Open In Colab\"/></a>"
      ]
    },
    {
      "cell_type": "code",
      "metadata": {
        "colab": {
          "base_uri": "https://localhost:8080/"
        },
        "id": "SG_dcogoRDwe",
        "outputId": "6bd56926-9133-467a-afdb-6215c51bbd01"
      },
      "source": [
        "def fib_r(n):\n",
        "    if n<2:\n",
        "        return n\n",
        "    return fib_r(n-1) + fib_r(n-2)\n",
        "\n",
        "for x in range(20):\n",
        "    print(fib_r(x))"
      ],
      "execution_count": null,
      "outputs": [
        {
          "output_type": "stream",
          "name": "stdout",
          "text": [
            "0\n",
            "1\n",
            "1\n",
            "2\n",
            "3\n",
            "5\n",
            "8\n",
            "13\n",
            "21\n",
            "34\n",
            "55\n",
            "89\n",
            "144\n",
            "233\n",
            "377\n",
            "610\n",
            "987\n",
            "1597\n",
            "2584\n",
            "4181\n"
          ]
        }
      ]
    },
    {
      "cell_type": "code",
      "metadata": {
        "colab": {
          "base_uri": "https://localhost:8080/"
        },
        "id": "7r4G0rLhR6zP",
        "outputId": "d63c92d7-6dd2-41ab-a436-346fa739419a"
      },
      "source": [
        "def sumar_lista(lista):\n",
        "    if len(lista) == 1:\n",
        "        return lista [0]\n",
        "    else:\n",
        "         return lista [0] + sumar_lista(lista[1:])\n",
        "\n",
        "numeros = [1,2,3,4,5,7,8,9,10]\n",
        "resultado = sumar_lista (numeros)\n",
        "print (\"La suma de los valores del 1 al 10 es igual a %i\" %resultado)\n"
      ],
      "execution_count": null,
      "outputs": [
        {
          "output_type": "stream",
          "name": "stdout",
          "text": [
            "La suma de los valores del 1 al 10 es igual a 49\n"
          ]
        }
      ]
    },
    {
      "cell_type": "code",
      "metadata": {
        "colab": {
          "base_uri": "https://localhost:8080/"
        },
        "id": "nWkZTUMgR7D-",
        "outputId": "37c7825e-383a-4747-cc17-d9e810bd9258"
      },
      "source": [
        "import time\n",
        "\n",
        "numeros = [5,4,3,2,1,0]\n",
        "\n",
        "for n in numeros:\n",
        "    print(n)\n",
        "    time.sleep(1)\n",
        "\n",
        "print(\"BOOOOM!!!\")"
      ],
      "execution_count": null,
      "outputs": [
        {
          "output_type": "stream",
          "name": "stdout",
          "text": [
            "5\n",
            "4\n",
            "3\n",
            "2\n",
            "1\n",
            "0\n",
            "BOOOOM!!!\n"
          ]
        }
      ]
    },
    {
      "cell_type": "code",
      "metadata": {
        "colab": {
          "base_uri": "https://localhost:8080/"
        },
        "id": "casG4mp2SseJ",
        "outputId": "b10c9974-e3c9-4523-c791-c3f1fcfa07a4"
      },
      "source": [
        "lista=[\"casa\",\"Carro\",\"Escuela\"]\n",
        "lista.pop(1)\n",
        "\n",
        "print(lista)"
      ],
      "execution_count": null,
      "outputs": [
        {
          "output_type": "stream",
          "name": "stdout",
          "text": [
            "['casa', 'Escuela']\n"
          ]
        }
      ]
    },
    {
      "cell_type": "markdown",
      "metadata": {
        "id": "I5C1xNOkTyEQ"
      },
      "source": [
        "https://github.com/AlexanderMoore2409\n"
      ]
    }
  ]
}