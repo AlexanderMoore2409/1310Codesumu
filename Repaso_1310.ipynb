{
  "nbformat": 4,
  "nbformat_minor": 0,
  "metadata": {
    "colab": {
      "name": "Repaso 1310.ipynb",
      "provenance": [],
      "collapsed_sections": [],
      "authorship_tag": "ABX9TyM16eVSrACKh0ipElagwPPY",
      "include_colab_link": true
    },
    "kernelspec": {
      "name": "python3",
      "display_name": "Python 3"
    },
    "language_info": {
      "name": "python"
    }
  },
  "cells": [
    {
      "cell_type": "markdown",
      "metadata": {
        "id": "view-in-github",
        "colab_type": "text"
      },
      "source": [
        "<a href=\"https://colab.research.google.com/github/AlexanderMoore2409/1310Codesumu/blob/main/Repaso_1310.ipynb\" target=\"_parent\"><img src=\"https://colab.research.google.com/assets/colab-badge.svg\" alt=\"Open In Colab\"/></a>"
      ]
    },
    {
      "cell_type": "code",
      "metadata": {
        "id": "0raI6ClUGVJC"
      },
      "source": [
        ""
      ],
      "execution_count": null,
      "outputs": []
    },
    {
      "cell_type": "markdown",
      "metadata": {
        "id": "LilexnvMGae9"
      },
      "source": [
        "# Slicing (rebanando)\n",
        "Es posible seleccionar elementos de una lista (str) por medio de la sintaxis\n",
        "[<inicio>: <tope>: <incremento>]\n",
        "por defecto: \n",
        "Inicio=0\n",
        "tope= tamaño de la lista(str)\n",
        "incremento = 1\n"
      ]
    },
    {
      "cell_type": "code",
      "metadata": {
        "colab": {
          "base_uri": "https://localhost:8080/"
        },
        "id": "4W7HijmAHUy1",
        "outputId": "34715c17-9f6e-40de-ae5b-04f1489a1065"
      },
      "source": [
        "nombre = \"Facultad de estudio Superiores Aragon\"\n",
        "print(nombre [0])\n",
        "print(nombre[-1])\n",
        "#slicing\n",
        "print(nombre[2: 5: 1])\n",
        "print (nombre [0: 8: 1])\n",
        "\n",
        "#Slicing con indexado negativo (-)\n",
        "print (nombre [-6 : 0 : 1])\n"
      ],
      "execution_count": 6,
      "outputs": [
        {
          "output_type": "stream",
          "name": "stdout",
          "text": [
            "F\n",
            "n\n",
            "cul\n",
            "Facultad\n",
            "\n"
          ]
        }
      ]
    }
  ]
}