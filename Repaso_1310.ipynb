{
  "nbformat": 4,
  "nbformat_minor": 0,
  "metadata": {
    "colab": {
      "name": "Repaso 1310.ipynb",
      "provenance": [],
      "collapsed_sections": [],
      "authorship_tag": "ABX9TyMVmDuUeKAyZdFUxyk/5cqe",
      "include_colab_link": true
    },
    "kernelspec": {
      "name": "python3",
      "display_name": "Python 3"
    },
    "language_info": {
      "name": "python"
    }
  },
  "cells": [
    {
      "cell_type": "markdown",
      "metadata": {
        "id": "view-in-github",
        "colab_type": "text"
      },
      "source": [
        "<a href=\"https://colab.research.google.com/github/AlexanderMoore2409/1310Codesumu/blob/main/Repaso_1310.ipynb\" target=\"_parent\"><img src=\"https://colab.research.google.com/assets/colab-badge.svg\" alt=\"Open In Colab\"/></a>"
      ]
    },
    {
      "cell_type": "code",
      "metadata": {
        "id": "0raI6ClUGVJC"
      },
      "source": [
        ""
      ],
      "execution_count": null,
      "outputs": []
    },
    {
      "cell_type": "markdown",
      "metadata": {
        "id": "LilexnvMGae9"
      },
      "source": [
        "# Slicing (rebanando)\n",
        "Es posible seleccionar elementos de una lista (str) por medio de la sintaxis\n",
        "[<inicio>: <tope>: <incremento>]\n",
        "por defecto: \n",
        "Inicio=0\n",
        "tope= tamaño de la lista(str)\n",
        "incremento = 1\n"
      ]
    },
    {
      "cell_type": "code",
      "metadata": {
        "colab": {
          "base_uri": "https://localhost:8080/"
        },
        "id": "4W7HijmAHUy1",
        "outputId": "8d52f478-cc7c-4498-9fe0-86dbbd9b7070"
      },
      "source": [
        "nombre = \"Facultad de estudios Superiores Aragon\"\n",
        "print(nombre [0])\n",
        "print(nombre[-1])\n",
        "#slicing\n",
        "print(nombre[2: 5: 1])\n",
        "print (nombre [0: 8: 1])\n",
        "\n",
        "#Slicing con indexado negativo (-)\n",
        "print (nombre [-6 : 0 : 1])\n",
        "print (nombre [7 :  : -1])\n"
      ],
      "execution_count": 9,
      "outputs": [
        {
          "output_type": "stream",
          "name": "stdout",
          "text": [
            "F\n",
            "n\n",
            "cul\n",
            "Facultad\n",
            "\n",
            "datlucaF\n"
          ]
        }
      ]
    },
    {
      "cell_type": "markdown",
      "metadata": {
        "id": "NlU5yak0KgKj"
      },
      "source": [
        "#String como objeto\n",
        "el ti´po de dato string es una clase  por lo tanto tiene atributoks y metodos\n",
        "#Ayuda en linea de python\n",
        "hay dos funciones que te dan ayuda\n",
        "dir()\n",
        "help()"
      ]
    },
    {
      "cell_type": "code",
      "metadata": {
        "colab": {
          "base_uri": "https://localhost:8080/"
        },
        "id": "H9YNBCNwKz5M",
        "outputId": "14e989b4-7c2b-4040-bcc6-3dd56eb9353f"
      },
      "source": [
        "dir(str)"
      ],
      "execution_count": 10,
      "outputs": [
        {
          "output_type": "execute_result",
          "data": {
            "text/plain": [
              "['__add__',\n",
              " '__class__',\n",
              " '__contains__',\n",
              " '__delattr__',\n",
              " '__dir__',\n",
              " '__doc__',\n",
              " '__eq__',\n",
              " '__format__',\n",
              " '__ge__',\n",
              " '__getattribute__',\n",
              " '__getitem__',\n",
              " '__getnewargs__',\n",
              " '__gt__',\n",
              " '__hash__',\n",
              " '__init__',\n",
              " '__init_subclass__',\n",
              " '__iter__',\n",
              " '__le__',\n",
              " '__len__',\n",
              " '__lt__',\n",
              " '__mod__',\n",
              " '__mul__',\n",
              " '__ne__',\n",
              " '__new__',\n",
              " '__reduce__',\n",
              " '__reduce_ex__',\n",
              " '__repr__',\n",
              " '__rmod__',\n",
              " '__rmul__',\n",
              " '__setattr__',\n",
              " '__sizeof__',\n",
              " '__str__',\n",
              " '__subclasshook__',\n",
              " 'capitalize',\n",
              " 'casefold',\n",
              " 'center',\n",
              " 'count',\n",
              " 'encode',\n",
              " 'endswith',\n",
              " 'expandtabs',\n",
              " 'find',\n",
              " 'format',\n",
              " 'format_map',\n",
              " 'index',\n",
              " 'isalnum',\n",
              " 'isalpha',\n",
              " 'isascii',\n",
              " 'isdecimal',\n",
              " 'isdigit',\n",
              " 'isidentifier',\n",
              " 'islower',\n",
              " 'isnumeric',\n",
              " 'isprintable',\n",
              " 'isspace',\n",
              " 'istitle',\n",
              " 'isupper',\n",
              " 'join',\n",
              " 'ljust',\n",
              " 'lower',\n",
              " 'lstrip',\n",
              " 'maketrans',\n",
              " 'partition',\n",
              " 'replace',\n",
              " 'rfind',\n",
              " 'rindex',\n",
              " 'rjust',\n",
              " 'rpartition',\n",
              " 'rsplit',\n",
              " 'rstrip',\n",
              " 'split',\n",
              " 'splitlines',\n",
              " 'startswith',\n",
              " 'strip',\n",
              " 'swapcase',\n",
              " 'title',\n",
              " 'translate',\n",
              " 'upper',\n",
              " 'zfill']"
            ]
          },
          "metadata": {},
          "execution_count": 10
        }
      ]
    },
    {
      "cell_type": "code",
      "metadata": {
        "colab": {
          "base_uri": "https://localhost:8080/"
        },
        "id": "JubQp9DCLTC7",
        "outputId": "68084173-9f18-4452-b584-fef4f7afa1e0"
      },
      "source": [
        "apellidos = \"garcia perez\"\n",
        "print(apellidos.capitalize())\n",
        "print(apellidos.title())\n",
        "print(apellidos.find('a'))\n",
        "print(\"LOPEZ PEREZ\".lower())\n",
        "print(apellidos.upper())\n",
        "\n",
        "\n",
        "numeros= \"1     ,    2    ,    3     ,4,5,6\"     \n",
        "num_divididos= numeros.strip().split(',')\n",
        "print(num_divididos)\n",
        "\n",
        "#num_divididos[0]=num_divididos[0].strip()\n",
        "#num_divididos[1]=num_divididos[1].strip()\n",
        "#num_divididos[2]=num_divididos[2].strip()\n",
        "#num_divididos[3]=num_divididos[3].strip()\n",
        "#num_divididos[4]=num_divididos[4].strip()\n",
        "#num_divididos[5]=num_divididos[5].strip()\n",
        "print(num_divididos)\n",
        "\n",
        "for elem in num_divididos:\n",
        "  print(elem)\n",
        "\n",
        "  for index in range(6):\n",
        "    num_divididos[index] = num_divididos[index].strip()\n",
        "    print(num_divididos)\n",
        "      "
      ],
      "execution_count": 32,
      "outputs": [
        {
          "output_type": "stream",
          "name": "stdout",
          "text": [
            "Garcia perez\n",
            "Garcia Perez\n",
            "1\n",
            "lopez perez\n",
            "GARCIA PEREZ\n",
            "['1     ', '    2    ', '    3     ', '4', '5', '6']\n",
            "['1     ', '    2    ', '    3     ', '4', '5', '6']\n",
            "1     \n",
            "['1', '    2    ', '    3     ', '4', '5', '6']\n",
            "['1', '2', '    3     ', '4', '5', '6']\n",
            "['1', '2', '3', '4', '5', '6']\n",
            "['1', '2', '3', '4', '5', '6']\n",
            "['1', '2', '3', '4', '5', '6']\n",
            "['1', '2', '3', '4', '5', '6']\n",
            "2\n",
            "['1', '2', '3', '4', '5', '6']\n",
            "['1', '2', '3', '4', '5', '6']\n",
            "['1', '2', '3', '4', '5', '6']\n",
            "['1', '2', '3', '4', '5', '6']\n",
            "['1', '2', '3', '4', '5', '6']\n",
            "['1', '2', '3', '4', '5', '6']\n",
            "3\n",
            "['1', '2', '3', '4', '5', '6']\n",
            "['1', '2', '3', '4', '5', '6']\n",
            "['1', '2', '3', '4', '5', '6']\n",
            "['1', '2', '3', '4', '5', '6']\n",
            "['1', '2', '3', '4', '5', '6']\n",
            "['1', '2', '3', '4', '5', '6']\n",
            "4\n",
            "['1', '2', '3', '4', '5', '6']\n",
            "['1', '2', '3', '4', '5', '6']\n",
            "['1', '2', '3', '4', '5', '6']\n",
            "['1', '2', '3', '4', '5', '6']\n",
            "['1', '2', '3', '4', '5', '6']\n",
            "['1', '2', '3', '4', '5', '6']\n",
            "5\n",
            "['1', '2', '3', '4', '5', '6']\n",
            "['1', '2', '3', '4', '5', '6']\n",
            "['1', '2', '3', '4', '5', '6']\n",
            "['1', '2', '3', '4', '5', '6']\n",
            "['1', '2', '3', '4', '5', '6']\n",
            "['1', '2', '3', '4', '5', '6']\n",
            "6\n",
            "['1', '2', '3', '4', '5', '6']\n",
            "['1', '2', '3', '4', '5', '6']\n",
            "['1', '2', '3', '4', '5', '6']\n",
            "['1', '2', '3', '4', '5', '6']\n",
            "['1', '2', '3', '4', '5', '6']\n",
            "['1', '2', '3', '4', '5', '6']\n"
          ]
        }
      ]
    },
    {
      "cell_type": "markdown",
      "metadata": {
        "id": "XRoaoZKqPuge"
      },
      "source": [
        "#Estructuras de control\n",
        "#for\n",
        "#if\n",
        "#if else\n",
        "#switch-case\n",
        "#for while\n",
        "#while y do while"
      ]
    },
    {
      "cell_type": "code",
      "metadata": {
        "colab": {
          "base_uri": "https://localhost:8080/"
        },
        "id": "QXlOk5fhQASl",
        "outputId": "9a776532-41b1-4e1f-a12e-3f970172670c"
      },
      "source": [
        "#if\n",
        "a=2\n",
        "b=3\n",
        "c=4\n",
        "print(a>b)\n",
        "\n",
        "if a > b :\n",
        "  print(\"Estamos en el if\")\n",
        "  print(\"A es mayor que B\")\n",
        "print(\"Fin del programa\")\n",
        "\n",
        "#######\n",
        "if c>a:\n",
        "  if c>b:\n",
        "    print(\"C es el mayor de los 3\")\n",
        "\n",
        "if c>a and c>b:\n",
        "  print(\"C es el mayor de los 3\")\n",
        "\n",
        "###If else cual de las 3 variables es la mayor\n",
        "if a>b:\n",
        "  if a>c:\n",
        "    print(\"a es la mayor\")\n",
        "  else:\n",
        "      print(\"c es la mayor\")\n",
        "\n",
        "else:\n",
        "  \n",
        "  if b>c:\n",
        "    print(\"b es la mayor\")\n",
        "  else:\n",
        "      print(\"c es la mayor\")\n",
        "\n",
        "#Pedir al usuario un numero entre 1 y 7, imprimir el dia de la semana\n",
        "opcion = int (input(\"Introduce un numero entre 1 y 7\"))\n",
        "\n",
        "if opcion>0 and opcion<8:\n",
        "  if opcion ==1:\n",
        "    print(\"Lunes\")\n",
        "  elif opcion==2:\n",
        "    print(\"Martes\")\n",
        "  elif opcion==3:\n",
        "    print(\"Miercoles\")\n",
        "  elif opcion==4:\n",
        "    print(\"Jueves\")\n",
        "  elif opcion==5:\n",
        "    print(\"Viernes\")\n",
        "  elif opcion==6:\n",
        "    print(\"Sabado\")\n",
        "  elif opcion==7:\n",
        "    print(\"Domingo\")\n",
        "else:\n",
        "  print(\"ERROR ERROR!!!\")\n",
        "\n",
        "\n"
      ],
      "execution_count": 54,
      "outputs": [
        {
          "output_type": "stream",
          "name": "stdout",
          "text": [
            "False\n",
            "Fin del programa\n",
            "C es el mayor de los 3\n",
            "C es el mayor de los 3\n",
            "c es la mayor\n",
            "Introduce un numero entre 1 y 78\n",
            "ERROR ERROR!!!\n"
          ]
        }
      ]
    },
    {
      "cell_type": "code",
      "metadata": {
        "colab": {
          "base_uri": "https://localhost:8080/"
        },
        "id": "n5NEng8eU8N1",
        "outputId": "c5bfaa1d-352c-4cbc-d2b6-70493518bbb8"
      },
      "source": [
        "# FOR y range\n",
        "\n",
        "## range() es una funcion que te proporciona un enumerado\n",
        "\n",
        "algo = range(4,10,2)\n",
        "frutas = ['Pera' , 'Manzana' , 'Aguacate' , 'Kiwi' , 'Platano']\n",
        "nombre = \"Santiago\"\n",
        "\n",
        "print(algo)\n",
        "\n",
        "for x in algo: #for(int x=4 ; x<10 ; x=x+2 )\n",
        "    print(x)\n",
        "\n",
        "for index in range(0,5,1):\n",
        "    print(frutas[index])\n",
        "\n",
        "# FOR e iteradores (For-each)\n",
        "\n",
        "for fruit in frutas:\n",
        "    print( fruit )\n",
        "\n",
        "for letra in nombre:\n",
        "    print(letra.upper())"
      ],
      "execution_count": 71,
      "outputs": [
        {
          "output_type": "stream",
          "name": "stdout",
          "text": [
            "range(4, 10, 2)\n",
            "4\n",
            "6\n",
            "8\n",
            "Pera\n",
            "Manzana\n",
            "Aguacate\n",
            "Kiwi\n",
            "Platano\n",
            "Pera\n",
            "Manzana\n",
            "Aguacate\n",
            "Kiwi\n",
            "Platano\n",
            "S\n",
            "A\n",
            "N\n",
            "T\n",
            "I\n",
            "A\n",
            "G\n",
            "O\n"
          ]
        }
      ]
    },
    {
      "cell_type": "markdown",
      "metadata": {
        "id": "BrxzWj2gY7E9"
      },
      "source": [
        "funciones\n"
      ]
    },
    {
      "cell_type": "code",
      "metadata": {
        "colab": {
          "base_uri": "https://localhost:8080/"
        },
        "id": "oDtHVAS9RjsR",
        "outputId": "dbd2a032-4658-4980-dcf8-75e5a5599577"
      },
      "source": [
        "#while\n",
        "\n",
        "control=1\n",
        "\n",
        "while control<=10:\n",
        "  print(control)\n",
        "  control +=1"
      ],
      "execution_count": 70,
      "outputs": [
        {
          "output_type": "stream",
          "name": "stdout",
          "text": [
            "1\n",
            "2\n",
            "3\n",
            "4\n",
            "5\n",
            "6\n",
            "7\n",
            "8\n",
            "9\n",
            "10\n"
          ]
        }
      ]
    },
    {
      "cell_type": "markdown",
      "metadata": {
        "id": "hTfjLiE7Y-LI"
      },
      "source": [
        "#Funciones\n",
        "es un segmento de codigo que recibe 0 o más valores de entrada\n",
        "relaliza una o un conjunto \n",
        "de operaciones de forma interna y regresa un solo tipo \n",
        "de dato aunque ese valor sea none (void)"
      ]
    },
    {
      "cell_type": "code",
      "metadata": {
        "id": "FL2Fde3uZ624"
      },
      "source": [
        ""
      ],
      "execution_count": null,
      "outputs": []
    },
    {
      "cell_type": "code",
      "metadata": {
        "colab": {
          "base_uri": "https://localhost:8080/"
        },
        "id": "yuTdz97BZTZt",
        "outputId": "8163ac64-1146-4b7f-da7d-b92e59c6b93a"
      },
      "source": [
        "#funcion suma\n",
        "\n",
        "def suma(a,b):\n",
        "  c = 0\n",
        "  c= a+b\n",
        "  return c\n",
        "\n",
        "print(suma(4 , 5))\n",
        "\n",
        "\n",
        "#Funcion que salude Personas\n",
        "def saludar (nombre):\n",
        "    print(f\" Hola {nombre}, ¿Como estas?\")\n",
        "    return None\n",
        "saludar(\"Jesus\")\n",
        "nombre=\"Santiago\"\n",
        "saludar (nombre)\n",
        "\n",
        "res=saludar(nombre)\n",
        "print(res)"
      ],
      "execution_count": 90,
      "outputs": [
        {
          "output_type": "stream",
          "name": "stdout",
          "text": [
            "9\n",
            " Hola Jesus, ¿Como estas?\n",
            " Hola Santiago, ¿Como estas?\n",
            " Hola Santiago, ¿Como estas?\n",
            "None\n"
          ]
        }
      ]
    }
  ]
}