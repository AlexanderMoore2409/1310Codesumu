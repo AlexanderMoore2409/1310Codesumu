{
  "nbformat": 4,
  "nbformat_minor": 0,
  "metadata": {
    "colab": {
      "name": "Repaso 1310.ipynb",
      "provenance": [],
      "collapsed_sections": [],
      "authorship_tag": "ABX9TyP1Qe83tkXkYJ3z8zEIp1Zx",
      "include_colab_link": true
    },
    "kernelspec": {
      "name": "python3",
      "display_name": "Python 3"
    },
    "language_info": {
      "name": "python"
    }
  },
  "cells": [
    {
      "cell_type": "markdown",
      "metadata": {
        "id": "view-in-github",
        "colab_type": "text"
      },
      "source": [
        "<a href=\"https://colab.research.google.com/github/AlexanderMoore2409/1310Codesumu/blob/main/Repaso_1310.ipynb\" target=\"_parent\"><img src=\"https://colab.research.google.com/assets/colab-badge.svg\" alt=\"Open In Colab\"/></a>"
      ]
    },
    {
      "cell_type": "code",
      "metadata": {
        "id": "0raI6ClUGVJC"
      },
      "source": [
        ""
      ],
      "execution_count": null,
      "outputs": []
    },
    {
      "cell_type": "markdown",
      "metadata": {
        "id": "LilexnvMGae9"
      },
      "source": [
        "# Slicing (rebanando)\n",
        "Es posible seleccionar elementos de una lista (str) por medio de la sintaxis\n",
        "[<inicio>: <tope>: <incremento>]\n",
        "por defecto: \n",
        "Inicio=0\n",
        "tope= tamaño de la lista(str)\n",
        "incremento = 1\n"
      ]
    },
    {
      "cell_type": "code",
      "metadata": {
        "colab": {
          "base_uri": "https://localhost:8080/"
        },
        "id": "4W7HijmAHUy1",
        "outputId": "3ee686af-71b6-4785-9e2b-cd94bef24281"
      },
      "source": [
        "nombre = \"Facultad de estudios Superiores Aragon\"\n",
        "print(nombre [0])\n",
        "print(nombre[-1])\n",
        "#slicing\n",
        "print(nombre[2: 5: 1])\n",
        "print (nombre [0: 8: 1])\n",
        "\n",
        "#Slicing con indexado negativo (-)\n",
        "print (nombre [-6 : 0 : 1])\n",
        "print (nombre [7 :  : -1])\n"
      ],
      "execution_count": null,
      "outputs": [
        {
          "output_type": "stream",
          "name": "stdout",
          "text": [
            "F\n",
            "n\n",
            "cul\n",
            "Facultad\n",
            "\n",
            "datlucaF\n"
          ]
        }
      ]
    },
    {
      "cell_type": "markdown",
      "metadata": {
        "id": "NlU5yak0KgKj"
      },
      "source": [
        "#String como objeto\n",
        "el ti´po de dato string es una clase  por lo tanto tiene atributoks y metodos\n",
        "#Ayuda en linea de python\n",
        "hay dos funciones que te dan ayuda\n",
        "dir()\n",
        "help()"
      ]
    },
    {
      "cell_type": "code",
      "metadata": {
        "colab": {
          "base_uri": "https://localhost:8080/"
        },
        "id": "H9YNBCNwKz5M",
        "outputId": "8c4cbd86-8ea6-4409-eead-6b08f3371ec4"
      },
      "source": [
        "dir(str)"
      ],
      "execution_count": null,
      "outputs": [
        {
          "output_type": "execute_result",
          "data": {
            "text/plain": [
              "['__add__',\n",
              " '__class__',\n",
              " '__contains__',\n",
              " '__delattr__',\n",
              " '__dir__',\n",
              " '__doc__',\n",
              " '__eq__',\n",
              " '__format__',\n",
              " '__ge__',\n",
              " '__getattribute__',\n",
              " '__getitem__',\n",
              " '__getnewargs__',\n",
              " '__gt__',\n",
              " '__hash__',\n",
              " '__init__',\n",
              " '__init_subclass__',\n",
              " '__iter__',\n",
              " '__le__',\n",
              " '__len__',\n",
              " '__lt__',\n",
              " '__mod__',\n",
              " '__mul__',\n",
              " '__ne__',\n",
              " '__new__',\n",
              " '__reduce__',\n",
              " '__reduce_ex__',\n",
              " '__repr__',\n",
              " '__rmod__',\n",
              " '__rmul__',\n",
              " '__setattr__',\n",
              " '__sizeof__',\n",
              " '__str__',\n",
              " '__subclasshook__',\n",
              " 'capitalize',\n",
              " 'casefold',\n",
              " 'center',\n",
              " 'count',\n",
              " 'encode',\n",
              " 'endswith',\n",
              " 'expandtabs',\n",
              " 'find',\n",
              " 'format',\n",
              " 'format_map',\n",
              " 'index',\n",
              " 'isalnum',\n",
              " 'isalpha',\n",
              " 'isascii',\n",
              " 'isdecimal',\n",
              " 'isdigit',\n",
              " 'isidentifier',\n",
              " 'islower',\n",
              " 'isnumeric',\n",
              " 'isprintable',\n",
              " 'isspace',\n",
              " 'istitle',\n",
              " 'isupper',\n",
              " 'join',\n",
              " 'ljust',\n",
              " 'lower',\n",
              " 'lstrip',\n",
              " 'maketrans',\n",
              " 'partition',\n",
              " 'replace',\n",
              " 'rfind',\n",
              " 'rindex',\n",
              " 'rjust',\n",
              " 'rpartition',\n",
              " 'rsplit',\n",
              " 'rstrip',\n",
              " 'split',\n",
              " 'splitlines',\n",
              " 'startswith',\n",
              " 'strip',\n",
              " 'swapcase',\n",
              " 'title',\n",
              " 'translate',\n",
              " 'upper',\n",
              " 'zfill']"
            ]
          },
          "metadata": {},
          "execution_count": 5
        }
      ]
    },
    {
      "cell_type": "code",
      "metadata": {
        "colab": {
          "base_uri": "https://localhost:8080/"
        },
        "id": "JubQp9DCLTC7",
        "outputId": "68084173-9f18-4452-b584-fef4f7afa1e0"
      },
      "source": [
        "apellidos = \"garcia perez\"\n",
        "print(apellidos.capitalize())\n",
        "print(apellidos.title())\n",
        "print(apellidos.find('a'))\n",
        "print(\"LOPEZ PEREZ\".lower())\n",
        "print(apellidos.upper())\n",
        "\n",
        "\n",
        "numeros= \"1     ,    2    ,    3     ,4,5,6\"     \n",
        "num_divididos= numeros.strip().split(',')\n",
        "print(num_divididos)\n",
        "\n",
        "#num_divididos[0]=num_divididos[0].strip()\n",
        "#num_divididos[1]=num_divididos[1].strip()\n",
        "#num_divididos[2]=num_divididos[2].strip()\n",
        "#num_divididos[3]=num_divididos[3].strip()\n",
        "#num_divididos[4]=num_divididos[4].strip()\n",
        "#num_divididos[5]=num_divididos[5].strip()\n",
        "print(num_divididos)\n",
        "\n",
        "for elem in num_divididos:\n",
        "  print(elem)\n",
        "\n",
        "  for index in range(6):\n",
        "    num_divididos[index] = num_divididos[index].strip()\n",
        "    print(num_divididos)\n",
        "      "
      ],
      "execution_count": null,
      "outputs": [
        {
          "output_type": "stream",
          "name": "stdout",
          "text": [
            "Garcia perez\n",
            "Garcia Perez\n",
            "1\n",
            "lopez perez\n",
            "GARCIA PEREZ\n",
            "['1     ', '    2    ', '    3     ', '4', '5', '6']\n",
            "['1     ', '    2    ', '    3     ', '4', '5', '6']\n",
            "1     \n",
            "['1', '    2    ', '    3     ', '4', '5', '6']\n",
            "['1', '2', '    3     ', '4', '5', '6']\n",
            "['1', '2', '3', '4', '5', '6']\n",
            "['1', '2', '3', '4', '5', '6']\n",
            "['1', '2', '3', '4', '5', '6']\n",
            "['1', '2', '3', '4', '5', '6']\n",
            "2\n",
            "['1', '2', '3', '4', '5', '6']\n",
            "['1', '2', '3', '4', '5', '6']\n",
            "['1', '2', '3', '4', '5', '6']\n",
            "['1', '2', '3', '4', '5', '6']\n",
            "['1', '2', '3', '4', '5', '6']\n",
            "['1', '2', '3', '4', '5', '6']\n",
            "3\n",
            "['1', '2', '3', '4', '5', '6']\n",
            "['1', '2', '3', '4', '5', '6']\n",
            "['1', '2', '3', '4', '5', '6']\n",
            "['1', '2', '3', '4', '5', '6']\n",
            "['1', '2', '3', '4', '5', '6']\n",
            "['1', '2', '3', '4', '5', '6']\n",
            "4\n",
            "['1', '2', '3', '4', '5', '6']\n",
            "['1', '2', '3', '4', '5', '6']\n",
            "['1', '2', '3', '4', '5', '6']\n",
            "['1', '2', '3', '4', '5', '6']\n",
            "['1', '2', '3', '4', '5', '6']\n",
            "['1', '2', '3', '4', '5', '6']\n",
            "5\n",
            "['1', '2', '3', '4', '5', '6']\n",
            "['1', '2', '3', '4', '5', '6']\n",
            "['1', '2', '3', '4', '5', '6']\n",
            "['1', '2', '3', '4', '5', '6']\n",
            "['1', '2', '3', '4', '5', '6']\n",
            "['1', '2', '3', '4', '5', '6']\n",
            "6\n",
            "['1', '2', '3', '4', '5', '6']\n",
            "['1', '2', '3', '4', '5', '6']\n",
            "['1', '2', '3', '4', '5', '6']\n",
            "['1', '2', '3', '4', '5', '6']\n",
            "['1', '2', '3', '4', '5', '6']\n",
            "['1', '2', '3', '4', '5', '6']\n"
          ]
        }
      ]
    },
    {
      "cell_type": "markdown",
      "metadata": {
        "id": "XRoaoZKqPuge"
      },
      "source": [
        "#Estructuras de control\n",
        "#for\n",
        "#if\n",
        "#if else\n",
        "#switch-case\n",
        "#for while\n",
        "#while y do while"
      ]
    },
    {
      "cell_type": "code",
      "metadata": {
        "colab": {
          "base_uri": "https://localhost:8080/"
        },
        "id": "QXlOk5fhQASl",
        "outputId": "9a776532-41b1-4e1f-a12e-3f970172670c"
      },
      "source": [
        "#if\n",
        "a=2\n",
        "b=3\n",
        "c=4\n",
        "print(a>b)\n",
        "\n",
        "if a > b :\n",
        "  print(\"Estamos en el if\")\n",
        "  print(\"A es mayor que B\")\n",
        "print(\"Fin del programa\")\n",
        "\n",
        "#######\n",
        "if c>a:\n",
        "  if c>b:\n",
        "    print(\"C es el mayor de los 3\")\n",
        "\n",
        "if c>a and c>b:\n",
        "  print(\"C es el mayor de los 3\")\n",
        "\n",
        "###If else cual de las 3 variables es la mayor\n",
        "if a>b:\n",
        "  if a>c:\n",
        "    print(\"a es la mayor\")\n",
        "  else:\n",
        "      print(\"c es la mayor\")\n",
        "\n",
        "else:\n",
        "  \n",
        "  if b>c:\n",
        "    print(\"b es la mayor\")\n",
        "  else:\n",
        "      print(\"c es la mayor\")\n",
        "\n",
        "#Pedir al usuario un numero entre 1 y 7, imprimir el dia de la semana\n",
        "opcion = int (input(\"Introduce un numero entre 1 y 7\"))\n",
        "\n",
        "if opcion>0 and opcion<8:\n",
        "  if opcion ==1:\n",
        "    print(\"Lunes\")\n",
        "  elif opcion==2:\n",
        "    print(\"Martes\")\n",
        "  elif opcion==3:\n",
        "    print(\"Miercoles\")\n",
        "  elif opcion==4:\n",
        "    print(\"Jueves\")\n",
        "  elif opcion==5:\n",
        "    print(\"Viernes\")\n",
        "  elif opcion==6:\n",
        "    print(\"Sabado\")\n",
        "  elif opcion==7:\n",
        "    print(\"Domingo\")\n",
        "else:\n",
        "  print(\"ERROR ERROR!!!\")\n",
        "\n",
        "\n"
      ],
      "execution_count": null,
      "outputs": [
        {
          "output_type": "stream",
          "name": "stdout",
          "text": [
            "False\n",
            "Fin del programa\n",
            "C es el mayor de los 3\n",
            "C es el mayor de los 3\n",
            "c es la mayor\n",
            "Introduce un numero entre 1 y 78\n",
            "ERROR ERROR!!!\n"
          ]
        }
      ]
    },
    {
      "cell_type": "code",
      "metadata": {
        "colab": {
          "base_uri": "https://localhost:8080/"
        },
        "id": "n5NEng8eU8N1",
        "outputId": "c5bfaa1d-352c-4cbc-d2b6-70493518bbb8"
      },
      "source": [
        "# FOR y range\n",
        "\n",
        "## range() es una funcion que te proporciona un enumerado\n",
        "\n",
        "algo = range(4,10,2)\n",
        "frutas = ['Pera' , 'Manzana' , 'Aguacate' , 'Kiwi' , 'Platano']\n",
        "nombre = \"Santiago\"\n",
        "\n",
        "print(algo)\n",
        "\n",
        "for x in algo: #for(int x=4 ; x<10 ; x=x+2 )\n",
        "    print(x)\n",
        "\n",
        "for index in range(0,5,1):\n",
        "    print(frutas[index])\n",
        "\n",
        "# FOR e iteradores (For-each)\n",
        "\n",
        "for fruit in frutas:\n",
        "    print( fruit )\n",
        "\n",
        "for letra in nombre:\n",
        "    print(letra.upper())"
      ],
      "execution_count": null,
      "outputs": [
        {
          "output_type": "stream",
          "name": "stdout",
          "text": [
            "range(4, 10, 2)\n",
            "4\n",
            "6\n",
            "8\n",
            "Pera\n",
            "Manzana\n",
            "Aguacate\n",
            "Kiwi\n",
            "Platano\n",
            "Pera\n",
            "Manzana\n",
            "Aguacate\n",
            "Kiwi\n",
            "Platano\n",
            "S\n",
            "A\n",
            "N\n",
            "T\n",
            "I\n",
            "A\n",
            "G\n",
            "O\n"
          ]
        }
      ]
    },
    {
      "cell_type": "markdown",
      "metadata": {
        "id": "BrxzWj2gY7E9"
      },
      "source": [
        "funciones\n"
      ]
    },
    {
      "cell_type": "code",
      "metadata": {
        "colab": {
          "base_uri": "https://localhost:8080/"
        },
        "id": "oDtHVAS9RjsR",
        "outputId": "dbd2a032-4658-4980-dcf8-75e5a5599577"
      },
      "source": [
        "#while\n",
        "\n",
        "control=1\n",
        "\n",
        "while control<=10:\n",
        "  print(control)\n",
        "  control +=1"
      ],
      "execution_count": null,
      "outputs": [
        {
          "output_type": "stream",
          "name": "stdout",
          "text": [
            "1\n",
            "2\n",
            "3\n",
            "4\n",
            "5\n",
            "6\n",
            "7\n",
            "8\n",
            "9\n",
            "10\n"
          ]
        }
      ]
    },
    {
      "cell_type": "markdown",
      "metadata": {
        "id": "hTfjLiE7Y-LI"
      },
      "source": [
        "#Funciones\n",
        "es un segmento de codigo que recibe 0 o más valores de entrada\n",
        "relaliza una o un conjunto \n",
        "de operaciones de forma interna y regresa un solo tipo \n",
        "de dato aunque ese valor sea none (void)"
      ]
    },
    {
      "cell_type": "code",
      "metadata": {
        "id": "FL2Fde3uZ624"
      },
      "source": [
        ""
      ],
      "execution_count": null,
      "outputs": []
    },
    {
      "cell_type": "code",
      "metadata": {
        "colab": {
          "base_uri": "https://localhost:8080/"
        },
        "id": "yuTdz97BZTZt",
        "outputId": "8163ac64-1146-4b7f-da7d-b92e59c6b93a"
      },
      "source": [
        "#funcion suma\n",
        "\n",
        "def suma(a,b):\n",
        "  c = 0\n",
        "  c= a+b\n",
        "  return c\n",
        "\n",
        "print(suma(4 , 5))\n",
        "\n",
        "\n",
        "#Funcion que salude Personas\n",
        "def saludar (nombre):\n",
        "    print(f\" Hola {nombre}, ¿Como estas?\")\n",
        "    return None\n",
        "saludar(\"Jesus\")\n",
        "nombre=\"Santiago\"\n",
        "saludar (nombre)\n",
        "\n",
        "res=saludar(nombre)\n",
        "print(res)"
      ],
      "execution_count": null,
      "outputs": [
        {
          "output_type": "stream",
          "name": "stdout",
          "text": [
            "9\n",
            " Hola Jesus, ¿Como estas?\n",
            " Hola Santiago, ¿Como estas?\n",
            " Hola Santiago, ¿Como estas?\n",
            "None\n"
          ]
        }
      ]
    },
    {
      "cell_type": "markdown",
      "metadata": {
        "id": "2cquGIehJQT8"
      },
      "source": [
        "#default y funciones\n",
        "hay ocasiones en que es necesario\n",
        "declarar valores por defecto \n",
        "en los argumentos de una funcion\n"
      ]
    },
    {
      "cell_type": "code",
      "metadata": {
        "colab": {
          "base_uri": "https://localhost:8080/"
        },
        "id": "3pCumVVJJdQl",
        "outputId": "e8e84271-3523-4358-b90c-5f1f7182fbf3"
      },
      "source": [
        "def saludar(nombre , veces=5 ):\n",
        "  for x in range (veces):\n",
        "    print(f\"{x}.- Hola {nombre}\")\n",
        "saludar (\"Juan\" , 3)\n",
        "\n",
        "#argumentos con llamadas no posicionales\n",
        "\n",
        "saludar (veces=6 , nombre=\"Juan\" )"
      ],
      "execution_count": null,
      "outputs": [
        {
          "output_type": "stream",
          "name": "stdout",
          "text": [
            "0.- Hola Juan\n",
            "1.- Hola Juan\n",
            "2.- Hola Juan\n",
            "0.- Hola Juan\n",
            "1.- Hola Juan\n",
            "2.- Hola Juan\n",
            "3.- Hola Juan\n",
            "4.- Hola Juan\n",
            "5.- Hola Juan\n"
          ]
        }
      ]
    },
    {
      "cell_type": "markdown",
      "metadata": {
        "id": "AGxZCWOIME7x"
      },
      "source": [
        "#Listas\n",
        "son estruturas de datos declaradas en python,\n",
        "funcionan como los arreglos en java y c,\n",
        "con algunas diferencias.\n",
        "* Usan el selector [ ]\n",
        "* Estructura secuendcial (0...n)\n",
        "* Son mutables\n",
        "* Puede contener valores de diferente tipo:\n",
        "[1 ,\" Manzana\" , True , 1.23 ] \n",
        "* Pueden ser anidados\n",
        "(Multidimensional)\n",
        "se crean usando [] y list()\n",
        "\n",
        "\n",
        "\n"
      ]
    },
    {
      "cell_type": "code",
      "metadata": {
        "colab": {
          "base_uri": "https://localhost:8080/"
        },
        "id": "uFeIeaClMnBp",
        "outputId": "7c1e9bf7-e5eb-481a-e56c-a40fbc9856e2"
      },
      "source": [
        "frutas = [\"pera\", \"lima\", \"limon\", \"kiwi\", \"manzana\"]\n",
        "print (frutas)\n",
        "print(frutas[1])\n",
        "frutas[1]= \"Mango\"\n",
        "print(frutas)\n",
        "persona = [\"Jose\",1.78, 19, False, 70.5 , \"ICO\"]\n",
        "print(persona)\n",
        "print(persona[-1])\n",
        "\n",
        "numeros = [2,4,6,8,10,12,14,16,18,20]\n",
        "print(numeros[4:7])\n"
      ],
      "execution_count": null,
      "outputs": [
        {
          "output_type": "stream",
          "name": "stdout",
          "text": [
            "['pera', 'lima', 'limon', 'kiwi', 'manzana']\n",
            "lima\n",
            "['pera', 'Mango', 'limon', 'kiwi', 'manzana']\n",
            "['Jose', 1.78, 19, False, 70.5, 'ICO']\n",
            "ICO\n",
            "[10, 12, 14]\n"
          ]
        }
      ]
    },
    {
      "cell_type": "code",
      "metadata": {
        "colab": {
          "base_uri": "https://localhost:8080/"
        },
        "id": "E2Fcb-f7PCPZ",
        "outputId": "101d7e12-11bc-4065-f416-3aac6781da10"
      },
      "source": [
        "#Listas Multidimensionales\n",
        "bds = [\"mysql\" ,  \"oracle\" , \"BD2\" , \"Mongo\" , \"SQLite\" ]\n",
        "leng_prog = [\"C\" , \"JAVA\" , \"JS\" , \"C++\" , \"C#\" , \"PYTHON\"]\n",
        "tecnologias = [bds , leng_prog]\n",
        "print(tecnologias)\n",
        "\n",
        "\n",
        "\"\"\"\n",
        "'''[['mysql', 'Oracle', 'BD2', 'Mongo', 'SQLite'], \n",
        "['C', 'Java', 'JS', 'C++', 'C#', 'Python']]'''\n",
        "\n",
        "\"\"\"\n",
        "\n",
        "print(tecnologias[1][3])\n",
        "print(tecnologias[0][4])\n",
        "print(tecnologias[1][2:5])"
      ],
      "execution_count": null,
      "outputs": [
        {
          "output_type": "stream",
          "name": "stdout",
          "text": [
            "[['mysql', 'oracle', 'BD2', 'Mongo', 'SQLite'], ['C', 'JAVA', 'JS', 'C++', 'C#', 'PYTHON']]\n",
            "C++\n",
            "SQLite\n",
            "['JS', 'C++', 'C#']\n"
          ]
        }
      ]
    },
    {
      "cell_type": "markdown",
      "metadata": {
        "id": "YEltYUDxSrjR"
      },
      "source": [
        "#La clase list \n",
        "el tipo de dato list es en realidad\n",
        "una clase que tiene métodos"
      ]
    },
    {
      "cell_type": "code",
      "metadata": {
        "colab": {
          "base_uri": "https://localhost:8080/"
        },
        "id": "3kQNckTWPMUg",
        "outputId": "49a1ce2f-7c17-4b22-bcbf-e9e0ca29e3d4"
      },
      "source": [
        "numeros = [100,23,45,23,55,1,22,101,99,10,13]\n",
        "type( numeros )\n",
        "dir( numeros )\n",
        "print(numeros.sort())\n",
        "print(numeros)\n",
        "numeros.reverse()\n",
        "print(numeros)\n",
        "#Eliminar elementos de un arreglo 2 formas:\n",
        "#forma 1\n",
        "#Utilizando remove\n",
        "numeros.remove(55)\n",
        "print(numeros)\n",
        "#forma 2 es utilizando del\n",
        "del numeros[3]\n",
        "print(numeros)\n",
        "\n",
        "#append agrega elementos al final\n",
        "\n",
        "numeros.append(0)\n",
        "numeros.append(33)\n",
        "numeros.sort()\n",
        "numeros.reverse()\n",
        "print(numeros)\n",
        "numeros.insert(3 , 60)\n",
        "print(numeros)\n",
        "n = numeros.pop()\n",
        "print(n)\n",
        "print(numeros)\n",
        "n = numeros.pop(1)\n",
        "print(n)\n",
        "print(numeros)\n",
        "\n",
        "mas_numeros = [400,500,600,700]\n",
        "numeros.extend(mas_numeros)\n",
        "print(numeros)\n",
        "#numeros.clear()\n",
        "print(numeros)\n",
        "# Listas y la estructura de control for\n",
        "\n",
        "for num in numeros:\n",
        "  print(f\"__>{num}<__\")\n"
      ],
      "execution_count": null,
      "outputs": [
        {
          "output_type": "stream",
          "name": "stdout",
          "text": [
            "None\n",
            "[1, 10, 13, 22, 23, 23, 45, 55, 99, 100, 101]\n",
            "[101, 100, 99, 55, 45, 23, 23, 22, 13, 10, 1]\n",
            "[101, 100, 99, 45, 23, 23, 22, 13, 10, 1]\n",
            "[101, 100, 99, 23, 23, 22, 13, 10, 1]\n",
            "[101, 100, 99, 33, 23, 23, 22, 13, 10, 1, 0]\n",
            "[101, 100, 99, 60, 33, 23, 23, 22, 13, 10, 1, 0]\n",
            "0\n",
            "[101, 100, 99, 60, 33, 23, 23, 22, 13, 10, 1]\n",
            "100\n",
            "[101, 99, 60, 33, 23, 23, 22, 13, 10, 1]\n",
            "[101, 99, 60, 33, 23, 23, 22, 13, 10, 1, 400, 500, 600, 700]\n",
            "[101, 99, 60, 33, 23, 23, 22, 13, 10, 1, 400, 500, 600, 700]\n",
            "__>101<__\n",
            "__>99<__\n",
            "__>60<__\n",
            "__>33<__\n",
            "__>23<__\n",
            "__>23<__\n",
            "__>22<__\n",
            "__>13<__\n",
            "__>10<__\n",
            "__>1<__\n",
            "__>400<__\n",
            "__>500<__\n",
            "__>600<__\n",
            "__>700<__\n"
          ]
        }
      ]
    },
    {
      "cell_type": "markdown",
      "metadata": {
        "id": "ZLfsL2vgYBmL"
      },
      "source": [
        "#Diccionarios\n",
        "* Estructura no lineal\n",
        "* Formada por pares de llave-valor\n",
        "{\"key\":valor}\n",
        "Donde valor puede ser cualquier tipo:\n",
        "int, float, string etc\n"
      ]
    },
    {
      "cell_type": "code",
      "metadata": {
        "colab": {
          "base_uri": "https://localhost:8080/"
        },
        "id": "ToW-9oVaZD81",
        "outputId": "d9d6d3a3-c77d-4e79-b2aa-55092a548499"
      },
      "source": [
        "persona = {\"nombre\": \"Jose\", \"edad\": 19, \"estatura\":1.7}\n",
        "print(persona)\n",
        "print(f\"La estatura es: {persona ['estatura']} metros\")\n",
        "\n",
        "estudiante = {\n",
        "\"nombre\" : { \"nombres\" : [\"Juan\", \"Jose\"] ,\n",
        "\"paterno\" : \"Pérez\" ,\n",
        "\"materno\" : \" Garcia\"\n",
        "} ,\n",
        "\"edad\" : 19 ,\n",
        "\"estatura\" : 1.7,\n",
        "\"carrera\" : {\n",
        "\"escuala\" : \"UNAM FES Aragón\",\n",
        "\"Carrera\" : \"ICO\",\n",
        "\"semestre\" : 2\n",
        "},\n",
        "\"direccion\" : {\n",
        "\"calle\" : \"Colorines\",\n",
        "\"num_exterior\" : 34,\n",
        "\"interior\" : \"apartmento B\"\n",
        "},\n",
        "\"telefonos\" : {\n",
        "\"casa\" : 556463663,\n",
        "\"calular\" : [\"+5255767664\" , \"+52557373773\"]\n",
        "}\n",
        "\n",
        "}\n",
        "print(estudiante)\n"
      ],
      "execution_count": null,
      "outputs": [
        {
          "output_type": "stream",
          "name": "stdout",
          "text": [
            "{'nombre': 'Jose', 'edad': 19, 'estatura': 1.7}\n",
            "La estatura es: 1.7 metros\n",
            "{'nombre': {'nombres': ['Juan', 'Jose'], 'paterno': 'Pérez', 'materno': ' Garcia'}, 'edad': 19, 'estatura': 1.7, 'carrera': {'escuala': 'UNAM FES Aragón', 'Carrera': 'ICO', 'semestre': 2}, 'direccion': {'calle': 'Colorines', 'num_exterior': 34, 'interior': 'apartmento B'}, 'telefonos': {'casa': 556463663, 'calular': ['+5255767664', '+52557373773']}}\n"
          ]
        }
      ]
    },
    {
      "cell_type": "code",
      "metadata": {
        "id": "DZsALg6Bbqom"
      },
      "source": [
        ""
      ],
      "execution_count": null,
      "outputs": []
    }
  ]
}