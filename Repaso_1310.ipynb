{
  "nbformat": 4,
  "nbformat_minor": 0,
  "metadata": {
    "colab": {
      "name": " Repaso 1310.ipynb",
      "provenance": [],
      "collapsed_sections": [],
      "authorship_tag": "ABX9TyNgRpmDPsorSEJfbPFXPo4r",
      "include_colab_link": true
    },
    "kernelspec": {
      "name": "python3",
      "display_name": "Python 3"
    },
    "language_info": {
      "name": "python"
    }
  },
  "cells": [
    {
      "cell_type": "markdown",
      "metadata": {
        "id": "view-in-github",
        "colab_type": "text"
      },
      "source": [
        "<a href=\"https://colab.research.google.com/github/AlexanderMoore2409/1310Codesumu/blob/main/Repaso_1310.ipynb\" target=\"_parent\"><img src=\"https://colab.research.google.com/assets/colab-badge.svg\" alt=\"Open In Colab\"/></a>"
      ]
    },
    {
      "cell_type": "code",
      "metadata": {
        "id": "0raI6ClUGVJC"
      },
      "source": [
        ""
      ],
      "execution_count": null,
      "outputs": []
    },
    {
      "cell_type": "markdown",
      "metadata": {
        "id": "LilexnvMGae9"
      },
      "source": [
        "# Slicing (rebanando)\n",
        "Es posible seleccionar elementos de una lista (str) por medio de la sintaxis\n",
        "[<inicio>: <tope>: <incremento>]\n",
        "por defecto: \n",
        "Inicio=0\n",
        "tope= tamaño de la lista(str)\n",
        "incremento = 1\n"
      ]
    },
    {
      "cell_type": "code",
      "metadata": {
        "colab": {
          "base_uri": "https://localhost:8080/"
        },
        "id": "4W7HijmAHUy1",
        "outputId": "3ee686af-71b6-4785-9e2b-cd94bef24281"
      },
      "source": [
        "nombre = \"Facultad de estudios Superiores Aragon\"\n",
        "print(nombre [0])\n",
        "print(nombre[-1])\n",
        "#slicing\n",
        "print(nombre[2: 5: 1])\n",
        "print (nombre [0: 8: 1])\n",
        "\n",
        "#Slicing con indexado negativo (-)\n",
        "print (nombre [-6 : 0 : 1])\n",
        "print (nombre [7 :  : -1])\n"
      ],
      "execution_count": null,
      "outputs": [
        {
          "output_type": "stream",
          "name": "stdout",
          "text": [
            "F\n",
            "n\n",
            "cul\n",
            "Facultad\n",
            "\n",
            "datlucaF\n"
          ]
        }
      ]
    },
    {
      "cell_type": "markdown",
      "metadata": {
        "id": "NlU5yak0KgKj"
      },
      "source": [
        "#String como objeto\n",
        "el ti´po de dato string es una clase  por lo tanto tiene atributoks y metodos\n",
        "#Ayuda en linea de python\n",
        "hay dos funciones que te dan ayuda\n",
        "dir()\n",
        "help()"
      ]
    },
    {
      "cell_type": "code",
      "metadata": {
        "colab": {
          "base_uri": "https://localhost:8080/"
        },
        "id": "H9YNBCNwKz5M",
        "outputId": "8c4cbd86-8ea6-4409-eead-6b08f3371ec4"
      },
      "source": [
        "dir(str)"
      ],
      "execution_count": null,
      "outputs": [
        {
          "output_type": "execute_result",
          "data": {
            "text/plain": [
              "['__add__',\n",
              " '__class__',\n",
              " '__contains__',\n",
              " '__delattr__',\n",
              " '__dir__',\n",
              " '__doc__',\n",
              " '__eq__',\n",
              " '__format__',\n",
              " '__ge__',\n",
              " '__getattribute__',\n",
              " '__getitem__',\n",
              " '__getnewargs__',\n",
              " '__gt__',\n",
              " '__hash__',\n",
              " '__init__',\n",
              " '__init_subclass__',\n",
              " '__iter__',\n",
              " '__le__',\n",
              " '__len__',\n",
              " '__lt__',\n",
              " '__mod__',\n",
              " '__mul__',\n",
              " '__ne__',\n",
              " '__new__',\n",
              " '__reduce__',\n",
              " '__reduce_ex__',\n",
              " '__repr__',\n",
              " '__rmod__',\n",
              " '__rmul__',\n",
              " '__setattr__',\n",
              " '__sizeof__',\n",
              " '__str__',\n",
              " '__subclasshook__',\n",
              " 'capitalize',\n",
              " 'casefold',\n",
              " 'center',\n",
              " 'count',\n",
              " 'encode',\n",
              " 'endswith',\n",
              " 'expandtabs',\n",
              " 'find',\n",
              " 'format',\n",
              " 'format_map',\n",
              " 'index',\n",
              " 'isalnum',\n",
              " 'isalpha',\n",
              " 'isascii',\n",
              " 'isdecimal',\n",
              " 'isdigit',\n",
              " 'isidentifier',\n",
              " 'islower',\n",
              " 'isnumeric',\n",
              " 'isprintable',\n",
              " 'isspace',\n",
              " 'istitle',\n",
              " 'isupper',\n",
              " 'join',\n",
              " 'ljust',\n",
              " 'lower',\n",
              " 'lstrip',\n",
              " 'maketrans',\n",
              " 'partition',\n",
              " 'replace',\n",
              " 'rfind',\n",
              " 'rindex',\n",
              " 'rjust',\n",
              " 'rpartition',\n",
              " 'rsplit',\n",
              " 'rstrip',\n",
              " 'split',\n",
              " 'splitlines',\n",
              " 'startswith',\n",
              " 'strip',\n",
              " 'swapcase',\n",
              " 'title',\n",
              " 'translate',\n",
              " 'upper',\n",
              " 'zfill']"
            ]
          },
          "metadata": {},
          "execution_count": 5
        }
      ]
    },
    {
      "cell_type": "code",
      "metadata": {
        "colab": {
          "base_uri": "https://localhost:8080/"
        },
        "id": "JubQp9DCLTC7",
        "outputId": "68084173-9f18-4452-b584-fef4f7afa1e0"
      },
      "source": [
        "apellidos = \"garcia perez\"\n",
        "print(apellidos.capitalize())\n",
        "print(apellidos.title())\n",
        "print(apellidos.find('a'))\n",
        "print(\"LOPEZ PEREZ\".lower())\n",
        "print(apellidos.upper())\n",
        "\n",
        "\n",
        "numeros= \"1     ,    2    ,    3     ,4,5,6\"     \n",
        "num_divididos= numeros.strip().split(',')\n",
        "print(num_divididos)\n",
        "\n",
        "#num_divididos[0]=num_divididos[0].strip()\n",
        "#num_divididos[1]=num_divididos[1].strip()\n",
        "#num_divididos[2]=num_divididos[2].strip()\n",
        "#num_divididos[3]=num_divididos[3].strip()\n",
        "#num_divididos[4]=num_divididos[4].strip()\n",
        "#num_divididos[5]=num_divididos[5].strip()\n",
        "print(num_divididos)\n",
        "\n",
        "for elem in num_divididos:\n",
        "  print(elem)\n",
        "\n",
        "  for index in range(6):\n",
        "    num_divididos[index] = num_divididos[index].strip()\n",
        "    print(num_divididos)\n",
        "      "
      ],
      "execution_count": null,
      "outputs": [
        {
          "output_type": "stream",
          "name": "stdout",
          "text": [
            "Garcia perez\n",
            "Garcia Perez\n",
            "1\n",
            "lopez perez\n",
            "GARCIA PEREZ\n",
            "['1     ', '    2    ', '    3     ', '4', '5', '6']\n",
            "['1     ', '    2    ', '    3     ', '4', '5', '6']\n",
            "1     \n",
            "['1', '    2    ', '    3     ', '4', '5', '6']\n",
            "['1', '2', '    3     ', '4', '5', '6']\n",
            "['1', '2', '3', '4', '5', '6']\n",
            "['1', '2', '3', '4', '5', '6']\n",
            "['1', '2', '3', '4', '5', '6']\n",
            "['1', '2', '3', '4', '5', '6']\n",
            "2\n",
            "['1', '2', '3', '4', '5', '6']\n",
            "['1', '2', '3', '4', '5', '6']\n",
            "['1', '2', '3', '4', '5', '6']\n",
            "['1', '2', '3', '4', '5', '6']\n",
            "['1', '2', '3', '4', '5', '6']\n",
            "['1', '2', '3', '4', '5', '6']\n",
            "3\n",
            "['1', '2', '3', '4', '5', '6']\n",
            "['1', '2', '3', '4', '5', '6']\n",
            "['1', '2', '3', '4', '5', '6']\n",
            "['1', '2', '3', '4', '5', '6']\n",
            "['1', '2', '3', '4', '5', '6']\n",
            "['1', '2', '3', '4', '5', '6']\n",
            "4\n",
            "['1', '2', '3', '4', '5', '6']\n",
            "['1', '2', '3', '4', '5', '6']\n",
            "['1', '2', '3', '4', '5', '6']\n",
            "['1', '2', '3', '4', '5', '6']\n",
            "['1', '2', '3', '4', '5', '6']\n",
            "['1', '2', '3', '4', '5', '6']\n",
            "5\n",
            "['1', '2', '3', '4', '5', '6']\n",
            "['1', '2', '3', '4', '5', '6']\n",
            "['1', '2', '3', '4', '5', '6']\n",
            "['1', '2', '3', '4', '5', '6']\n",
            "['1', '2', '3', '4', '5', '6']\n",
            "['1', '2', '3', '4', '5', '6']\n",
            "6\n",
            "['1', '2', '3', '4', '5', '6']\n",
            "['1', '2', '3', '4', '5', '6']\n",
            "['1', '2', '3', '4', '5', '6']\n",
            "['1', '2', '3', '4', '5', '6']\n",
            "['1', '2', '3', '4', '5', '6']\n",
            "['1', '2', '3', '4', '5', '6']\n"
          ]
        }
      ]
    },
    {
      "cell_type": "markdown",
      "metadata": {
        "id": "XRoaoZKqPuge"
      },
      "source": [
        "#Estructuras de control\n",
        "#for\n",
        "#if\n",
        "#if else\n",
        "#switch-case\n",
        "#for while\n",
        "#while y do while"
      ]
    },
    {
      "cell_type": "code",
      "metadata": {
        "colab": {
          "base_uri": "https://localhost:8080/"
        },
        "id": "QXlOk5fhQASl",
        "outputId": "9a776532-41b1-4e1f-a12e-3f970172670c"
      },
      "source": [
        "#if\n",
        "a=2\n",
        "b=3\n",
        "c=4\n",
        "print(a>b)\n",
        "\n",
        "if a > b :\n",
        "  print(\"Estamos en el if\")\n",
        "  print(\"A es mayor que B\")\n",
        "print(\"Fin del programa\")\n",
        "\n",
        "#######\n",
        "if c>a:\n",
        "  if c>b:\n",
        "    print(\"C es el mayor de los 3\")\n",
        "\n",
        "if c>a and c>b:\n",
        "  print(\"C es el mayor de los 3\")\n",
        "\n",
        "###If else cual de las 3 variables es la mayor\n",
        "if a>b:\n",
        "  if a>c:\n",
        "    print(\"a es la mayor\")\n",
        "  else:\n",
        "      print(\"c es la mayor\")\n",
        "\n",
        "else:\n",
        "  \n",
        "  if b>c:\n",
        "    print(\"b es la mayor\")\n",
        "  else:\n",
        "      print(\"c es la mayor\")\n",
        "\n",
        "#Pedir al usuario un numero entre 1 y 7, imprimir el dia de la semana\n",
        "opcion = int (input(\"Introduce un numero entre 1 y 7\"))\n",
        "\n",
        "if opcion>0 and opcion<8:\n",
        "  if opcion ==1:\n",
        "    print(\"Lunes\")\n",
        "  elif opcion==2:\n",
        "    print(\"Martes\")\n",
        "  elif opcion==3:\n",
        "    print(\"Miercoles\")\n",
        "  elif opcion==4:\n",
        "    print(\"Jueves\")\n",
        "  elif opcion==5:\n",
        "    print(\"Viernes\")\n",
        "  elif opcion==6:\n",
        "    print(\"Sabado\")\n",
        "  elif opcion==7:\n",
        "    print(\"Domingo\")\n",
        "else:\n",
        "  print(\"ERROR ERROR!!!\")\n",
        "\n",
        "\n"
      ],
      "execution_count": null,
      "outputs": [
        {
          "output_type": "stream",
          "name": "stdout",
          "text": [
            "False\n",
            "Fin del programa\n",
            "C es el mayor de los 3\n",
            "C es el mayor de los 3\n",
            "c es la mayor\n",
            "Introduce un numero entre 1 y 78\n",
            "ERROR ERROR!!!\n"
          ]
        }
      ]
    },
    {
      "cell_type": "code",
      "metadata": {
        "colab": {
          "base_uri": "https://localhost:8080/"
        },
        "id": "n5NEng8eU8N1",
        "outputId": "c5bfaa1d-352c-4cbc-d2b6-70493518bbb8"
      },
      "source": [
        "# FOR y range\n",
        "\n",
        "## range() es una funcion que te proporciona un enumerado\n",
        "\n",
        "algo = range(4,10,2)\n",
        "frutas = ['Pera' , 'Manzana' , 'Aguacate' , 'Kiwi' , 'Platano']\n",
        "nombre = \"Santiago\"\n",
        "\n",
        "print(algo)\n",
        "\n",
        "for x in algo: #for(int x=4 ; x<10 ; x=x+2 )\n",
        "    print(x)\n",
        "\n",
        "for index in range(0,5,1):\n",
        "    print(frutas[index])\n",
        "\n",
        "# FOR e iteradores (For-each)\n",
        "\n",
        "for fruit in frutas:\n",
        "    print( fruit )\n",
        "\n",
        "for letra in nombre:\n",
        "    print(letra.upper())"
      ],
      "execution_count": null,
      "outputs": [
        {
          "output_type": "stream",
          "name": "stdout",
          "text": [
            "range(4, 10, 2)\n",
            "4\n",
            "6\n",
            "8\n",
            "Pera\n",
            "Manzana\n",
            "Aguacate\n",
            "Kiwi\n",
            "Platano\n",
            "Pera\n",
            "Manzana\n",
            "Aguacate\n",
            "Kiwi\n",
            "Platano\n",
            "S\n",
            "A\n",
            "N\n",
            "T\n",
            "I\n",
            "A\n",
            "G\n",
            "O\n"
          ]
        }
      ]
    },
    {
      "cell_type": "markdown",
      "metadata": {
        "id": "BrxzWj2gY7E9"
      },
      "source": [
        "funciones\n"
      ]
    },
    {
      "cell_type": "code",
      "metadata": {
        "colab": {
          "base_uri": "https://localhost:8080/"
        },
        "id": "oDtHVAS9RjsR",
        "outputId": "dbd2a032-4658-4980-dcf8-75e5a5599577"
      },
      "source": [
        "#while\n",
        "\n",
        "control=1\n",
        "\n",
        "while control<=10:\n",
        "  print(control)\n",
        "  control +=1"
      ],
      "execution_count": null,
      "outputs": [
        {
          "output_type": "stream",
          "name": "stdout",
          "text": [
            "1\n",
            "2\n",
            "3\n",
            "4\n",
            "5\n",
            "6\n",
            "7\n",
            "8\n",
            "9\n",
            "10\n"
          ]
        }
      ]
    },
    {
      "cell_type": "markdown",
      "metadata": {
        "id": "hTfjLiE7Y-LI"
      },
      "source": [
        "#Funciones\n",
        "es un segmento de codigo que recibe 0 o más valores de entrada\n",
        "relaliza una o un conjunto \n",
        "de operaciones de forma interna y regresa un solo tipo \n",
        "de dato aunque ese valor sea none (void)"
      ]
    },
    {
      "cell_type": "code",
      "metadata": {
        "id": "FL2Fde3uZ624"
      },
      "source": [
        ""
      ],
      "execution_count": null,
      "outputs": []
    },
    {
      "cell_type": "code",
      "metadata": {
        "colab": {
          "base_uri": "https://localhost:8080/"
        },
        "id": "yuTdz97BZTZt",
        "outputId": "8163ac64-1146-4b7f-da7d-b92e59c6b93a"
      },
      "source": [
        "#funcion suma\n",
        "\n",
        "def suma(a,b):\n",
        "  c = 0\n",
        "  c= a+b\n",
        "  return c\n",
        "\n",
        "print(suma(4 , 5))\n",
        "\n",
        "\n",
        "#Funcion que salude Personas\n",
        "def saludar (nombre):\n",
        "    print(f\" Hola {nombre}, ¿Como estas?\")\n",
        "    return None\n",
        "saludar(\"Jesus\")\n",
        "nombre=\"Santiago\"\n",
        "saludar (nombre)\n",
        "\n",
        "res=saludar(nombre)\n",
        "print(res)"
      ],
      "execution_count": null,
      "outputs": [
        {
          "output_type": "stream",
          "name": "stdout",
          "text": [
            "9\n",
            " Hola Jesus, ¿Como estas?\n",
            " Hola Santiago, ¿Como estas?\n",
            " Hola Santiago, ¿Como estas?\n",
            "None\n"
          ]
        }
      ]
    },
    {
      "cell_type": "markdown",
      "metadata": {
        "id": "2cquGIehJQT8"
      },
      "source": [
        "#default y funciones\n",
        "hay ocasiones en que es necesario\n",
        "declarar valores por defecto \n",
        "en los argumentos de una funcion\n"
      ]
    },
    {
      "cell_type": "code",
      "metadata": {
        "colab": {
          "base_uri": "https://localhost:8080/"
        },
        "id": "3pCumVVJJdQl",
        "outputId": "e8e84271-3523-4358-b90c-5f1f7182fbf3"
      },
      "source": [
        "def saludar(nombre , veces=5 ):\n",
        "  for x in range (veces):\n",
        "    print(f\"{x}.- Hola {nombre}\")\n",
        "saludar (\"Juan\" , 3)\n",
        "\n",
        "#argumentos con llamadas no posicionales\n",
        "\n",
        "saludar (veces=6 , nombre=\"Juan\" )"
      ],
      "execution_count": null,
      "outputs": [
        {
          "output_type": "stream",
          "name": "stdout",
          "text": [
            "0.- Hola Juan\n",
            "1.- Hola Juan\n",
            "2.- Hola Juan\n",
            "0.- Hola Juan\n",
            "1.- Hola Juan\n",
            "2.- Hola Juan\n",
            "3.- Hola Juan\n",
            "4.- Hola Juan\n",
            "5.- Hola Juan\n"
          ]
        }
      ]
    },
    {
      "cell_type": "markdown",
      "metadata": {
        "id": "AGxZCWOIME7x"
      },
      "source": [
        "#Listas\n",
        "son estruturas de datos declaradas en python,\n",
        "funcionan como los arreglos en java y c,\n",
        "con algunas diferencias.\n",
        "* Usan el selector [ ]\n",
        "* Estructura secuendcial (0...n)\n",
        "* Son mutables\n",
        "* Puede contener valores de diferente tipo:\n",
        "[1 ,\" Manzana\" , True , 1.23 ] \n",
        "* Pueden ser anidados\n",
        "(Multidimensional)\n",
        "se crean usando [] y list()\n",
        "\n",
        "\n",
        "\n"
      ]
    },
    {
      "cell_type": "code",
      "metadata": {
        "colab": {
          "base_uri": "https://localhost:8080/"
        },
        "id": "uFeIeaClMnBp",
        "outputId": "7c1e9bf7-e5eb-481a-e56c-a40fbc9856e2"
      },
      "source": [
        "frutas = [\"pera\", \"lima\", \"limon\", \"kiwi\", \"manzana\"]\n",
        "print (frutas)\n",
        "print(frutas[1])\n",
        "frutas[1]= \"Mango\"\n",
        "print(frutas)\n",
        "persona = [\"Jose\",1.78, 19, False, 70.5 , \"ICO\"]\n",
        "print(persona)\n",
        "print(persona[-1])\n",
        "\n",
        "numeros = [2,4,6,8,10,12,14,16,18,20]\n",
        "print(numeros[4:7])\n"
      ],
      "execution_count": null,
      "outputs": [
        {
          "output_type": "stream",
          "name": "stdout",
          "text": [
            "['pera', 'lima', 'limon', 'kiwi', 'manzana']\n",
            "lima\n",
            "['pera', 'Mango', 'limon', 'kiwi', 'manzana']\n",
            "['Jose', 1.78, 19, False, 70.5, 'ICO']\n",
            "ICO\n",
            "[10, 12, 14]\n"
          ]
        }
      ]
    },
    {
      "cell_type": "code",
      "metadata": {
        "colab": {
          "base_uri": "https://localhost:8080/"
        },
        "id": "E2Fcb-f7PCPZ",
        "outputId": "101d7e12-11bc-4065-f416-3aac6781da10"
      },
      "source": [
        "#Listas Multidimensionales\n",
        "bds = [\"mysql\" ,  \"oracle\" , \"BD2\" , \"Mongo\" , \"SQLite\" ]\n",
        "leng_prog = [\"C\" , \"JAVA\" , \"JS\" , \"C++\" , \"C#\" , \"PYTHON\"]\n",
        "tecnologias = [bds , leng_prog]\n",
        "print(tecnologias)\n",
        "\n",
        "\n",
        "\"\"\"\n",
        "'''[['mysql', 'Oracle', 'BD2', 'Mongo', 'SQLite'], \n",
        "['C', 'Java', 'JS', 'C++', 'C#', 'Python']]'''\n",
        "\n",
        "\"\"\"\n",
        "\n",
        "print(tecnologias[1][3])\n",
        "print(tecnologias[0][4])\n",
        "print(tecnologias[1][2:5])"
      ],
      "execution_count": null,
      "outputs": [
        {
          "output_type": "stream",
          "name": "stdout",
          "text": [
            "[['mysql', 'oracle', 'BD2', 'Mongo', 'SQLite'], ['C', 'JAVA', 'JS', 'C++', 'C#', 'PYTHON']]\n",
            "C++\n",
            "SQLite\n",
            "['JS', 'C++', 'C#']\n"
          ]
        }
      ]
    },
    {
      "cell_type": "markdown",
      "metadata": {
        "id": "YEltYUDxSrjR"
      },
      "source": [
        "#La clase list \n",
        "el tipo de dato list es en realidad\n",
        "una clase que tiene métodos"
      ]
    },
    {
      "cell_type": "code",
      "metadata": {
        "colab": {
          "base_uri": "https://localhost:8080/"
        },
        "id": "3kQNckTWPMUg",
        "outputId": "49a1ce2f-7c17-4b22-bcbf-e9e0ca29e3d4"
      },
      "source": [
        "numeros = [100,23,45,23,55,1,22,101,99,10,13]\n",
        "type( numeros )\n",
        "dir( numeros )\n",
        "print(numeros.sort())\n",
        "print(numeros)\n",
        "numeros.reverse()\n",
        "print(numeros)\n",
        "#Eliminar elementos de un arreglo 2 formas:\n",
        "#forma 1\n",
        "#Utilizando remove\n",
        "numeros.remove(55)\n",
        "print(numeros)\n",
        "#forma 2 es utilizando del\n",
        "del numeros[3]\n",
        "print(numeros)\n",
        "\n",
        "#append agrega elementos al final\n",
        "\n",
        "numeros.append(0)\n",
        "numeros.append(33)\n",
        "numeros.sort()\n",
        "numeros.reverse()\n",
        "print(numeros)\n",
        "numeros.insert(3 , 60)\n",
        "print(numeros)\n",
        "n = numeros.pop()\n",
        "print(n)\n",
        "print(numeros)\n",
        "n = numeros.pop(1)\n",
        "print(n)\n",
        "print(numeros)\n",
        "\n",
        "mas_numeros = [400,500,600,700]\n",
        "numeros.extend(mas_numeros)\n",
        "print(numeros)\n",
        "#numeros.clear()\n",
        "print(numeros)\n",
        "# Listas y la estructura de control for\n",
        "\n",
        "for num in numeros:\n",
        "  print(f\"__>{num}<__\")\n"
      ],
      "execution_count": null,
      "outputs": [
        {
          "output_type": "stream",
          "name": "stdout",
          "text": [
            "None\n",
            "[1, 10, 13, 22, 23, 23, 45, 55, 99, 100, 101]\n",
            "[101, 100, 99, 55, 45, 23, 23, 22, 13, 10, 1]\n",
            "[101, 100, 99, 45, 23, 23, 22, 13, 10, 1]\n",
            "[101, 100, 99, 23, 23, 22, 13, 10, 1]\n",
            "[101, 100, 99, 33, 23, 23, 22, 13, 10, 1, 0]\n",
            "[101, 100, 99, 60, 33, 23, 23, 22, 13, 10, 1, 0]\n",
            "0\n",
            "[101, 100, 99, 60, 33, 23, 23, 22, 13, 10, 1]\n",
            "100\n",
            "[101, 99, 60, 33, 23, 23, 22, 13, 10, 1]\n",
            "[101, 99, 60, 33, 23, 23, 22, 13, 10, 1, 400, 500, 600, 700]\n",
            "[101, 99, 60, 33, 23, 23, 22, 13, 10, 1, 400, 500, 600, 700]\n",
            "__>101<__\n",
            "__>99<__\n",
            "__>60<__\n",
            "__>33<__\n",
            "__>23<__\n",
            "__>23<__\n",
            "__>22<__\n",
            "__>13<__\n",
            "__>10<__\n",
            "__>1<__\n",
            "__>400<__\n",
            "__>500<__\n",
            "__>600<__\n",
            "__>700<__\n"
          ]
        }
      ]
    },
    {
      "cell_type": "markdown",
      "metadata": {
        "id": "yp5zl4GklfI6"
      },
      "source": [
        "#Tuplas\n",
        "*Estructuras de datos lineales.\n",
        "\n",
        "*Son inmutables\n",
        "\n",
        "*Usan menos espacio de memoria.\n",
        "\n",
        "*Son utiles para declarar valores de consulta\n",
        "fuera de eso las demas carfacteristicas son las mismas que la lista\n",
        "\n",
        "*"
      ]
    },
    {
      "cell_type": "code",
      "metadata": {
        "colab": {
          "base_uri": "https://localhost:8080/"
        },
        "id": "CQBxRotgmQbD",
        "outputId": "9ed9b8cd-4845-4363-8304-323393874c8e"
      },
      "source": [
        "#tuplas\n",
        "datos_conexion = (\"123.234.145.23\", \"juan\", 'patito123')\n",
        "print(datos_conexion[0])\n",
        "dir(datos_conexion)\n"
      ],
      "execution_count": 28,
      "outputs": [
        {
          "output_type": "stream",
          "name": "stdout",
          "text": [
            "123.234.145.23\n"
          ]
        },
        {
          "output_type": "execute_result",
          "data": {
            "text/plain": [
              "['__add__',\n",
              " '__class__',\n",
              " '__contains__',\n",
              " '__delattr__',\n",
              " '__dir__',\n",
              " '__doc__',\n",
              " '__eq__',\n",
              " '__format__',\n",
              " '__ge__',\n",
              " '__getattribute__',\n",
              " '__getitem__',\n",
              " '__getnewargs__',\n",
              " '__gt__',\n",
              " '__hash__',\n",
              " '__init__',\n",
              " '__init_subclass__',\n",
              " '__iter__',\n",
              " '__le__',\n",
              " '__len__',\n",
              " '__lt__',\n",
              " '__mul__',\n",
              " '__ne__',\n",
              " '__new__',\n",
              " '__reduce__',\n",
              " '__reduce_ex__',\n",
              " '__repr__',\n",
              " '__rmul__',\n",
              " '__setattr__',\n",
              " '__sizeof__',\n",
              " '__str__',\n",
              " '__subclasshook__',\n",
              " 'count',\n",
              " 'index']"
            ]
          },
          "metadata": {},
          "execution_count": 28
        }
      ]
    },
    {
      "cell_type": "code",
      "metadata": {
        "colab": {
          "base_uri": "https://localhost:8080/"
        },
        "id": "uMGpA_Yslb90",
        "outputId": "36ba64c0-d474-4b62-da20-5c10a49bc7f8"
      },
      "source": [
        "dir(list)"
      ],
      "execution_count": 26,
      "outputs": [
        {
          "output_type": "execute_result",
          "data": {
            "text/plain": [
              "['__add__',\n",
              " '__class__',\n",
              " '__contains__',\n",
              " '__delattr__',\n",
              " '__delitem__',\n",
              " '__dir__',\n",
              " '__doc__',\n",
              " '__eq__',\n",
              " '__format__',\n",
              " '__ge__',\n",
              " '__getattribute__',\n",
              " '__getitem__',\n",
              " '__gt__',\n",
              " '__hash__',\n",
              " '__iadd__',\n",
              " '__imul__',\n",
              " '__init__',\n",
              " '__init_subclass__',\n",
              " '__iter__',\n",
              " '__le__',\n",
              " '__len__',\n",
              " '__lt__',\n",
              " '__mul__',\n",
              " '__ne__',\n",
              " '__new__',\n",
              " '__reduce__',\n",
              " '__reduce_ex__',\n",
              " '__repr__',\n",
              " '__reversed__',\n",
              " '__rmul__',\n",
              " '__setattr__',\n",
              " '__setitem__',\n",
              " '__sizeof__',\n",
              " '__str__',\n",
              " '__subclasshook__',\n",
              " 'append',\n",
              " 'clear',\n",
              " 'copy',\n",
              " 'count',\n",
              " 'extend',\n",
              " 'index',\n",
              " 'insert',\n",
              " 'pop',\n",
              " 'remove',\n",
              " 'reverse',\n",
              " 'sort']"
            ]
          },
          "metadata": {},
          "execution_count": 26
        }
      ]
    },
    {
      "cell_type": "markdown",
      "metadata": {
        "id": "ZLfsL2vgYBmL"
      },
      "source": [
        "#Diccionarios\n",
        "* Estructura no lineal\n",
        "* Formada por pares de llave-valor\n",
        "{\"key\":valor}\n",
        "Donde valor puede ser cualquier tipo:\n",
        "int, float, string etc\n"
      ]
    },
    {
      "cell_type": "code",
      "metadata": {
        "colab": {
          "base_uri": "https://localhost:8080/"
        },
        "id": "ToW-9oVaZD81",
        "outputId": "bd965dfb-e2e7-4d1e-bb31-b776f2c13969"
      },
      "source": [
        "persona = {\"nombre\": \"Jose\", \"edad\": 19, \"estatura\":1.7}\n",
        "print(persona)\n",
        "print(f\"La estatura es: {persona ['estatura']} metros\")\n",
        "\n",
        "estudiante = {\n",
        "\"nombre\" : { \"nombres\" : [\"Juan\", \"Jose\"] ,\n",
        "\"paterno\" : \"Pérez\" ,\n",
        "\"materno\" : \" Garcia\"\n",
        "} ,\n",
        "\"edad\" : 19 ,\n",
        "\"estatura\" : 1.7,\n",
        "\"carrera\" : {\n",
        "\"escuala\" : \"UNAM FES Aragón\",\n",
        "\"Carrera\" : \"ICO\",\n",
        "\"semestre\" : 2\n",
        "},\n",
        "\"direccion\" : {\n",
        "\"calle\" : \"Colorines\",\n",
        "\"num_exterior\" : 34,\n",
        "\"interior\" : \"apartmento B\"\n",
        "},\n",
        "\"telefonos\" : {\n",
        "\"casa\" : 556463663,\n",
        "\"celular\" : [\"+5255767664\" , \"+52557373773\"]\n",
        "}\n",
        "\n",
        "}\n",
        "print(estudiante['direccion']['calle'])\n",
        "print(f\"la estatura del estudiante es: {estudiante['estatura']}\")\n",
        "print( estudiante['telefonos']['celular'][1])\n",
        "estudiante['direccion']['calle'] ='pancho lopez'\n",
        "print(estudiante['direccion'])\n",
        "estudiante['direccion']['colonia'] = 'Impulsora'\n",
        "print(estudiante['direccion'])\n",
        "#Combinar con la invocacion de metodos de los valores\n",
        "#mostrar el nombre del estudiante en mayuscula\n",
        "print(estudiante['nombre']['nombres'][0].upper(),estudiante['nombre']['nombres'][1].upper())\n",
        "#keys\n",
        "llaves = estudiante.keys()\n",
        "print(llaves)\n",
        "print(\"--------------\")\n",
        "for llave in llaves:\n",
        "  print(llaves)\n",
        "  print(estudiante[llave])\n",
        "\n",
        "#values\n",
        "print(\"------------------------Values()---------------------------\")\n",
        "vals = estudiante.values()\n",
        "for val in vals:\n",
        "  print(val)\n",
        "#items\n",
        "\n",
        "print(\"----------------items()---------------\")\n",
        "elems = estudiante.items()\n",
        "print(elems)\n",
        "\n",
        "for par in elems:\n",
        "  #print(par)\n",
        "  print(par[1])\n",
        "\n",
        "#fin al intro de diccionarios"
      ],
      "execution_count": 35,
      "outputs": [
        {
          "output_type": "stream",
          "name": "stdout",
          "text": [
            "{'nombre': 'Jose', 'edad': 19, 'estatura': 1.7}\n",
            "La estatura es: 1.7 metros\n",
            "Colorines\n",
            "la estatura del estudiante es: 1.7\n",
            "+52557373773\n",
            "{'calle': 'pancho lopez', 'num_exterior': 34, 'interior': 'apartmento B'}\n",
            "{'calle': 'pancho lopez', 'num_exterior': 34, 'interior': 'apartmento B', 'colonia': 'Impulsora'}\n",
            "JUAN JOSE\n",
            "dict_keys(['nombre', 'edad', 'estatura', 'carrera', 'direccion', 'telefonos'])\n",
            "--------------\n",
            "dict_keys(['nombre', 'edad', 'estatura', 'carrera', 'direccion', 'telefonos'])\n",
            "{'nombres': ['Juan', 'Jose'], 'paterno': 'Pérez', 'materno': ' Garcia'}\n",
            "dict_keys(['nombre', 'edad', 'estatura', 'carrera', 'direccion', 'telefonos'])\n",
            "19\n",
            "dict_keys(['nombre', 'edad', 'estatura', 'carrera', 'direccion', 'telefonos'])\n",
            "1.7\n",
            "dict_keys(['nombre', 'edad', 'estatura', 'carrera', 'direccion', 'telefonos'])\n",
            "{'escuala': 'UNAM FES Aragón', 'Carrera': 'ICO', 'semestre': 2}\n",
            "dict_keys(['nombre', 'edad', 'estatura', 'carrera', 'direccion', 'telefonos'])\n",
            "{'calle': 'pancho lopez', 'num_exterior': 34, 'interior': 'apartmento B', 'colonia': 'Impulsora'}\n",
            "dict_keys(['nombre', 'edad', 'estatura', 'carrera', 'direccion', 'telefonos'])\n",
            "{'casa': 556463663, 'celular': ['+5255767664', '+52557373773']}\n",
            "------------------------Values()---------------------------\n",
            "{'nombres': ['Juan', 'Jose'], 'paterno': 'Pérez', 'materno': ' Garcia'}\n",
            "19\n",
            "1.7\n",
            "{'escuala': 'UNAM FES Aragón', 'Carrera': 'ICO', 'semestre': 2}\n",
            "{'calle': 'pancho lopez', 'num_exterior': 34, 'interior': 'apartmento B', 'colonia': 'Impulsora'}\n",
            "{'casa': 556463663, 'celular': ['+5255767664', '+52557373773']}\n",
            "----------------items()---------------\n",
            "dict_items([('nombre', {'nombres': ['Juan', 'Jose'], 'paterno': 'Pérez', 'materno': ' Garcia'}), ('edad', 19), ('estatura', 1.7), ('carrera', {'escuala': 'UNAM FES Aragón', 'Carrera': 'ICO', 'semestre': 2}), ('direccion', {'calle': 'pancho lopez', 'num_exterior': 34, 'interior': 'apartmento B', 'colonia': 'Impulsora'}), ('telefonos', {'casa': 556463663, 'celular': ['+5255767664', '+52557373773']})])\n",
            "{'nombres': ['Juan', 'Jose'], 'paterno': 'Pérez', 'materno': ' Garcia'}\n",
            "19\n",
            "1.7\n",
            "{'escuala': 'UNAM FES Aragón', 'Carrera': 'ICO', 'semestre': 2}\n",
            "{'calle': 'pancho lopez', 'num_exterior': 34, 'interior': 'apartmento B', 'colonia': 'Impulsora'}\n",
            "{'casa': 556463663, 'celular': ['+5255767664', '+52557373773']}\n"
          ]
        }
      ]
    },
    {
      "cell_type": "markdown",
      "metadata": {
        "id": "Kw1-LBu8o7cM"
      },
      "source": [
        "#Funciones segunda parte(el reencuentro).\n",
        "\n",
        "##declarar funciones combinandola con tuplas\n",
        "se puede recibir una lista de argumentos dinamica\n",
        "que se almacenara enm una tupla para ello se utiliza un operador especial llamado \"*\" en la declaraicon de la funcion\n",
        "\n",
        "def ni_funcion(*algo) : print(algo)\n"
      ]
    },
    {
      "cell_type": "code",
      "metadata": {
        "colab": {
          "base_uri": "https://localhost:8080/"
        },
        "id": "i-_W07x-qD48",
        "outputId": "7f36943e-9e85-4a59-8343-5be53e1de6f5"
      },
      "source": [
        "def mi_funcion(*argumentos):\n",
        "  print(argumentos)\n",
        "\n",
        "mi_funcion(1,2, \"hhhhh\")\n",
        "\n",
        "def suma_v2(*vals):\n",
        "  suma = 0\n",
        "  for valor in vals:\n",
        "    suma += valor\n",
        "  print(suma)\n",
        "suma_v2(5,4,2,5,6,7,8,9,44,6,6,6,5,6)\n",
        "\n"
      ],
      "execution_count": 38,
      "outputs": [
        {
          "output_type": "stream",
          "name": "stdout",
          "text": [
            "(1, 2, 'hhhhh')\n",
            "119\n"
          ]
        }
      ]
    },
    {
      "cell_type": "markdown",
      "metadata": {
        "id": "cb3O60egsfy6"
      },
      "source": [
        "#declarar funciones con diccionarios\n",
        "\n",
        "def mi_funcion(**argumentos):\n",
        "print(argumentos) #argumentos es un diccionatio\n"
      ]
    },
    {
      "cell_type": "code",
      "metadata": {
        "colab": {
          "base_uri": "https://localhost:8080/"
        },
        "id": "aYfIqaGvtMEr",
        "outputId": "ce0ce830-ebc1-4185-e07f-76a4e9322bd1"
      },
      "source": [
        "def mi_funcion(**argumentos):\n",
        "   print(argumentos)\n",
        "mi_funcion (nombre =\"Jose\", edad = 19)"
      ],
      "execution_count": 40,
      "outputs": [
        {
          "output_type": "stream",
          "name": "stdout",
          "text": [
            "{'nombre': 'Jose', 'edad': 19}\n"
          ]
        }
      ]
    },
    {
      "cell_type": "markdown",
      "metadata": {
        "id": "es9ZckJpuCF4"
      },
      "source": [
        "#Tarea\n",
        "hacer un programa que permita levantar la comanda de un restaurante\n",
        "de la forma:\n",
        "\n"
      ]
    },
    {
      "cell_type": "markdown",
      "metadata": {
        "id": "0AElcFHwcvvL"
      },
      "source": [
        ""
      ]
    },
    {
      "cell_type": "code",
      "metadata": {
        "id": "DZsALg6Bbqom",
        "colab": {
          "base_uri": "https://localhost:8080/"
        },
        "outputId": "a9f92502-5101-410c-ec49-53369c9e507a"
      },
      "source": [
        "help(estudiante)"
      ],
      "execution_count": 17,
      "outputs": [
        {
          "output_type": "stream",
          "name": "stdout",
          "text": [
            "Help on dict object:\n",
            "\n",
            "class dict(object)\n",
            " |  dict() -> new empty dictionary\n",
            " |  dict(mapping) -> new dictionary initialized from a mapping object's\n",
            " |      (key, value) pairs\n",
            " |  dict(iterable) -> new dictionary initialized as if via:\n",
            " |      d = {}\n",
            " |      for k, v in iterable:\n",
            " |          d[k] = v\n",
            " |  dict(**kwargs) -> new dictionary initialized with the name=value pairs\n",
            " |      in the keyword argument list.  For example:  dict(one=1, two=2)\n",
            " |  \n",
            " |  Methods defined here:\n",
            " |  \n",
            " |  __contains__(self, key, /)\n",
            " |      True if the dictionary has the specified key, else False.\n",
            " |  \n",
            " |  __delitem__(self, key, /)\n",
            " |      Delete self[key].\n",
            " |  \n",
            " |  __eq__(self, value, /)\n",
            " |      Return self==value.\n",
            " |  \n",
            " |  __ge__(self, value, /)\n",
            " |      Return self>=value.\n",
            " |  \n",
            " |  __getattribute__(self, name, /)\n",
            " |      Return getattr(self, name).\n",
            " |  \n",
            " |  __getitem__(...)\n",
            " |      x.__getitem__(y) <==> x[y]\n",
            " |  \n",
            " |  __gt__(self, value, /)\n",
            " |      Return self>value.\n",
            " |  \n",
            " |  __init__(self, /, *args, **kwargs)\n",
            " |      Initialize self.  See help(type(self)) for accurate signature.\n",
            " |  \n",
            " |  __iter__(self, /)\n",
            " |      Implement iter(self).\n",
            " |  \n",
            " |  __le__(self, value, /)\n",
            " |      Return self<=value.\n",
            " |  \n",
            " |  __len__(self, /)\n",
            " |      Return len(self).\n",
            " |  \n",
            " |  __lt__(self, value, /)\n",
            " |      Return self<value.\n",
            " |  \n",
            " |  __ne__(self, value, /)\n",
            " |      Return self!=value.\n",
            " |  \n",
            " |  __repr__(self, /)\n",
            " |      Return repr(self).\n",
            " |  \n",
            " |  __setitem__(self, key, value, /)\n",
            " |      Set self[key] to value.\n",
            " |  \n",
            " |  __sizeof__(...)\n",
            " |      D.__sizeof__() -> size of D in memory, in bytes\n",
            " |  \n",
            " |  clear(...)\n",
            " |      D.clear() -> None.  Remove all items from D.\n",
            " |  \n",
            " |  copy(...)\n",
            " |      D.copy() -> a shallow copy of D\n",
            " |  \n",
            " |  get(self, key, default=None, /)\n",
            " |      Return the value for key if key is in the dictionary, else default.\n",
            " |  \n",
            " |  items(...)\n",
            " |      D.items() -> a set-like object providing a view on D's items\n",
            " |  \n",
            " |  keys(...)\n",
            " |      D.keys() -> a set-like object providing a view on D's keys\n",
            " |  \n",
            " |  pop(...)\n",
            " |      D.pop(k[,d]) -> v, remove specified key and return the corresponding value.\n",
            " |      If key is not found, d is returned if given, otherwise KeyError is raised\n",
            " |  \n",
            " |  popitem(...)\n",
            " |      D.popitem() -> (k, v), remove and return some (key, value) pair as a\n",
            " |      2-tuple; but raise KeyError if D is empty.\n",
            " |  \n",
            " |  setdefault(self, key, default=None, /)\n",
            " |      Insert key with a value of default if key is not in the dictionary.\n",
            " |      \n",
            " |      Return the value for key if key is in the dictionary, else default.\n",
            " |  \n",
            " |  update(...)\n",
            " |      D.update([E, ]**F) -> None.  Update D from dict/iterable E and F.\n",
            " |      If E is present and has a .keys() method, then does:  for k in E: D[k] = E[k]\n",
            " |      If E is present and lacks a .keys() method, then does:  for k, v in E: D[k] = v\n",
            " |      In either case, this is followed by: for k in F:  D[k] = F[k]\n",
            " |  \n",
            " |  values(...)\n",
            " |      D.values() -> an object providing a view on D's values\n",
            " |  \n",
            " |  ----------------------------------------------------------------------\n",
            " |  Class methods defined here:\n",
            " |  \n",
            " |  fromkeys(iterable, value=None, /) from builtins.type\n",
            " |      Create a new dictionary with keys from iterable and values set to value.\n",
            " |  \n",
            " |  ----------------------------------------------------------------------\n",
            " |  Static methods defined here:\n",
            " |  \n",
            " |  __new__(*args, **kwargs) from builtins.type\n",
            " |      Create and return a new object.  See help(type) for accurate signature.\n",
            " |  \n",
            " |  ----------------------------------------------------------------------\n",
            " |  Data and other attributes defined here:\n",
            " |  \n",
            " |  __hash__ = None\n",
            "\n"
          ]
        }
      ]
    }
  ]
}