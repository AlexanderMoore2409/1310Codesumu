{
  "nbformat": 4,
  "nbformat_minor": 0,
  "metadata": {
    "colab": {
      "name": "Cuestionario.ipynb",
      "provenance": [],
      "collapsed_sections": [],
      "authorship_tag": "ABX9TyNYUq4Zho7lKURanqr8XxY7",
      "include_colab_link": true
    },
    "kernelspec": {
      "name": "python3",
      "display_name": "Python 3"
    },
    "language_info": {
      "name": "python"
    }
  },
  "cells": [
    {
      "cell_type": "markdown",
      "metadata": {
        "id": "view-in-github",
        "colab_type": "text"
      },
      "source": [
        "<a href=\"https://colab.research.google.com/github/AlexanderMoore2409/1310Codesumu/blob/main/Cuestionario.ipynb\" target=\"_parent\"><img src=\"https://colab.research.google.com/assets/colab-badge.svg\" alt=\"Open In Colab\"/></a>"
      ]
    },
    {
      "cell_type": "code",
      "metadata": {
        "colab": {
          "base_uri": "https://localhost:8080/"
        },
        "id": "yNJBDECYfHL5",
        "outputId": "486e6ea0-de60-4284-c569-0aefbb3c46f9"
      },
      "source": [
        "listax = [\"Adios\",2,3,4,5,6,7,15,\"hola\"]\n",
        "print(f\"elementos seleccionados:{listax[0:2]}\")\n",
        "listax.append(\"Hello there\")\n",
        "print(\"Se agrego un elemento:\", listax)\n",
        "listax.remove(15)\n",
        "print(\"elemento removido:\", listax)\n",
        "\n",
        "\n"
      ],
      "execution_count": 10,
      "outputs": [
        {
          "output_type": "stream",
          "name": "stdout",
          "text": [
            "elementos seleccionados:['Adios', 2]\n",
            "Se agrego un elemento: ['Adios', 2, 3, 4, 5, 6, 7, 15, 'hola', 'Hello there']\n",
            "elemento removido: ['Adios', 2, 3, 4, 5, 6, 7, 'hola', 'Hello there']\n"
          ]
        }
      ]
    }
  ]
}